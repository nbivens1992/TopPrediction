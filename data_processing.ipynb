{
 "cells": [
  {
   "cell_type": "code",
   "execution_count": 1,
   "metadata": {},
   "outputs": [
    {
     "data": {
      "text/html": [
       "<div>\n",
       "<style scoped>\n",
       "    .dataframe tbody tr th:only-of-type {\n",
       "        vertical-align: middle;\n",
       "    }\n",
       "\n",
       "    .dataframe tbody tr th {\n",
       "        vertical-align: top;\n",
       "    }\n",
       "\n",
       "    .dataframe thead th {\n",
       "        text-align: right;\n",
       "    }\n",
       "</style>\n",
       "<table border=\"1\" class=\"dataframe\">\n",
       "  <thead>\n",
       "    <tr style=\"text-align: right;\">\n",
       "      <th></th>\n",
       "      <th>SitID</th>\n",
       "      <th>HorID</th>\n",
       "      <th>Pick</th>\n",
       "      <th>Quality</th>\n",
       "    </tr>\n",
       "  </thead>\n",
       "  <tbody>\n",
       "    <tr>\n",
       "      <th>0</th>\n",
       "      <td>102496</td>\n",
       "      <td>1000</td>\n",
       "      <td>321</td>\n",
       "      <td>1</td>\n",
       "    </tr>\n",
       "    <tr>\n",
       "      <th>1</th>\n",
       "      <td>102496</td>\n",
       "      <td>2000</td>\n",
       "      <td></td>\n",
       "      <td>-1</td>\n",
       "    </tr>\n",
       "    <tr>\n",
       "      <th>2</th>\n",
       "      <td>102496</td>\n",
       "      <td>3000</td>\n",
       "      <td></td>\n",
       "      <td>-1</td>\n",
       "    </tr>\n",
       "    <tr>\n",
       "      <th>3</th>\n",
       "      <td>102496</td>\n",
       "      <td>4000</td>\n",
       "      <td></td>\n",
       "      <td>-1</td>\n",
       "    </tr>\n",
       "    <tr>\n",
       "      <th>4</th>\n",
       "      <td>102496</td>\n",
       "      <td>5000</td>\n",
       "      <td>438</td>\n",
       "      <td>2</td>\n",
       "    </tr>\n",
       "  </tbody>\n",
       "</table>\n",
       "</div>"
      ],
      "text/plain": [
       "    SitID  HorID      Pick  Quality\n",
       "0  102496   1000       321        1\n",
       "1  102496   2000                 -1\n",
       "2  102496   3000                 -1\n",
       "3  102496   4000                 -1\n",
       "4  102496   5000       438        2"
      ]
     },
     "execution_count": 1,
     "metadata": {},
     "output_type": "execute_result"
    }
   ],
   "source": [
    "import pandas as pd\n",
    "import os\n",
    "\n",
    "\n",
    "current_dir = os.getcwd()\n",
    "# Define the file path\n",
    "file_path = current_dir +\"/Data/OilSandsDB/PICKS.xls\"\n",
    "\n",
    "# Read the Excel file into a DataFrame\n",
    "picks_df= pd.read_excel(file_path)\n",
    "\n",
    "# Display the first few rows of the DataFrame\n",
    "picks_df.head()"
   ]
  },
  {
   "cell_type": "markdown",
   "metadata": {},
   "source": [
    "Above is all of the picks for all of the wells. But some of these have poor quality picks and we do not need this much data...."
   ]
  },
  {
   "cell_type": "code",
   "execution_count": 2,
   "metadata": {},
   "outputs": [
    {
     "name": "stdout",
     "output_type": "stream",
     "text": [
      "[102496 102497 102498 ... 184098 184128 184130]\n",
      "1585\n"
     ]
    }
   ],
   "source": [
    "# Identify wells with any pick of quality 3 or 4\n",
    "wells_with_bad_quality = picks_df[picks_df['Quality'].isin([3, 4])]['SitID'].unique()\n",
    "\n",
    "print(wells_with_bad_quality)\n",
    "print(len(wells_with_bad_quality))"
   ]
  },
  {
   "cell_type": "markdown",
   "metadata": {},
   "source": [
    "Lets filter out the wells that have poor quality picks"
   ]
  },
  {
   "cell_type": "code",
   "execution_count": 3,
   "metadata": {},
   "outputs": [
    {
     "name": "stdout",
     "output_type": "stream",
     "text": [
      "      SitID  HorID      Pick  Quality\n",
      "196  102583   1000       336        1\n",
      "197  102583   2000                 -1\n",
      "198  102583   3000                 -1\n",
      "199  102583   4000                 -1\n",
      "200  102583   5000       446        1\n",
      "608\n"
     ]
    }
   ],
   "source": [
    "# Filter out wells with any pick of quality 3 or 4\n",
    "filtered_picks_df = picks_df[~picks_df['SitID'].isin(wells_with_bad_quality)]\n",
    "\n",
    "# Display the filtered DataFrame\n",
    "print(filtered_picks_df.head())\n",
    "\n",
    "# Print the number of unique wells left after filtering\n",
    "print(len(filtered_picks_df['SitID'].unique()))"
   ]
  },
  {
   "cell_type": "markdown",
   "metadata": {},
   "source": [
    "Now lets see how many missing picks are in each well. There are 15 formations, and there is a missing pick or good pick for these wells "
   ]
  },
  {
   "cell_type": "code",
   "execution_count": 4,
   "metadata": {},
   "outputs": [
    {
     "name": "stdout",
     "output_type": "stream",
     "text": [
      "SitID\n",
      "102583    10\n",
      "102597    10\n",
      "102671    10\n",
      "102698    10\n",
      "102710    10\n",
      "          ..\n",
      "178525    12\n",
      "178601    10\n",
      "179250    12\n",
      "179268    13\n",
      "183487    11\n",
      "Length: 608, dtype: int64\n"
     ]
    }
   ],
   "source": [
    "# Filter the DataFrame to get only the rows where Quality is 0, 1, or 2\n",
    "good_picks_df = filtered_picks_df[filtered_picks_df['Quality'].isin([0, 1, 2])]\n",
    "\n",
    "# Count the number of good picks per well\n",
    "good_picks_per_well = good_picks_df.groupby('SitID').size()\n",
    "\n",
    "print(good_picks_per_well)"
   ]
  },
  {
   "cell_type": "markdown",
   "metadata": {},
   "source": [
    "Now lets plot it"
   ]
  },
  {
   "cell_type": "code",
   "execution_count": 5,
   "metadata": {},
   "outputs": [
    {
     "data": {
      "image/png": "[encoded data removed]",
      "text/plain": [
       "<Figure size 1000x500 with 1 Axes>"
      ]
     },
     "metadata": {},
     "output_type": "display_data"
    }
   ],
   "source": [
    "import matplotlib.pyplot as plt\n",
    "import numpy as np\n",
    "\n",
    "# Define the bins based on the range of good picks and ensuring each bin is 1 pick wide\n",
    "max_picks = int(np.max(good_picks_per_well))\n",
    "bins = np.arange(0, max_picks + 2) - 0.5\n",
    "\n",
    "# Plotting\n",
    "plt.figure(figsize=(10, 5))\n",
    "counts, bins, patches = plt.hist(good_picks_per_well, bins=bins, edgecolor='k', alpha=0.7)\n",
    "plt.xlabel('Number of Good Picks')\n",
    "plt.ylabel('Number of Wells')\n",
    "plt.title('Distribution of Good Picks per Well')\n",
    "plt.grid(True, which='both', axis='y')  # Only display the horizontal grid lines\n",
    "\n",
    "# Adjust x-ticks for clarity\n",
    "plt.xticks(np.arange(0, max_picks + 1))\n",
    "plt.xlim([-0.5, max_picks + 0.5])  # Adjust x limits for better visualization\n",
    "\n",
    "# Calculate bin centers\n",
    "bin_centers = 0.5 * (bins[:-1] + bins[1:])\n",
    "\n",
    "# Add counts above the bars\n",
    "for count, bin_center in zip(counts, bin_centers):\n",
    "    plt.text(bin_center, count + 2, str(int(count)), \n",
    "             ha='center', color='k')\n",
    "\n",
    "plt.show()\n"
   ]
  },
  {
   "cell_type": "markdown",
   "metadata": {},
   "source": [
    "We can see in this plot that only 2 wells have all of the picks. For the sake of ease lets find the wells that have the least amount of missing picks. Lets pick wells that have Greater than 12 good picks"
   ]
  },
  {
   "cell_type": "code",
   "execution_count": 6,
   "metadata": {},
   "outputs": [
    {
     "name": "stdout",
     "output_type": "stream",
     "text": [
      "185\n"
     ]
    }
   ],
   "source": [
    "# Get the SitID values for wells with more than 11 good quality picks\n",
    "wells_with_good_picks = good_picks_per_well[good_picks_per_well > 11].index\n",
    "\n",
    "# Filter the original DataFrame\n",
    "filtered_picks_df = picks_df[picks_df['SitID'].isin(wells_with_good_picks)]\n",
    "\n",
    "\n",
    "num_wells = filtered_picks_df['SitID'].nunique()\n",
    "print(num_wells)\n"
   ]
  },
  {
   "cell_type": "markdown",
   "metadata": {},
   "source": [
    "Now we need to find out what .las files to extract from the data. The .las files are the UWI of the well (unique well identifier). There is a Well.xls file that tells us the UWI for each well which we can in turn use to extract the .las files "
   ]
  },
  {
   "cell_type": "code",
   "execution_count": 7,
   "metadata": {},
   "outputs": [
    {
     "name": "stdout",
     "output_type": "stream",
     "text": [
      "    SitID      UWI (AGS)                  UWI\n",
      "0  102496  0674010812000  00/12-08-067-01W4/0\n",
      "1  102497  0674020807000  00/07-08-067-02W4/0\n",
      "2  102498  0674021109000  00/09-11-067-02W4/0\n",
      "3  102500  0674022910000  00/10-29-067-02W4/0\n",
      "4  102501  0674023406000  00/06-34-067-02W4/0\n"
     ]
    }
   ],
   "source": [
    "# Define the file path\n",
    "file_path = current_dir +\"/Data/OilSandsDB/WELLS.xls\"\n",
    "\n",
    "# Read the Excel file into a DataFrame\n",
    "wells_df= pd.read_excel(file_path)\n",
    "print(wells_df.head())"
   ]
  },
  {
   "cell_type": "code",
   "execution_count": 8,
   "metadata": {},
   "outputs": [
    {
     "name": "stdout",
     "output_type": "stream",
     "text": [
      "185\n",
      "['00/07-25-076-26W4/0' '00/10-25-076-02W5/0' '00/16-12-076-03W5/0'\n",
      " '00/10-28-076-04W5/0' '00/10-34-077-24W4/0' '00/11-30-077-25W4/0'\n",
      " '00/11-34-077-25W4/0' '00/06-02-077-26W4/0' '00/07-22-077-26W4/0'\n",
      " '00/11-34-077-26W4/0' '00/06-24-077-01W5/0' '00/07-09-077-04W5/0'\n",
      " '00/07-12-077-04W5/0' '00/11-32-077-05W5/0' '00/10-19-078-24W4/0'\n",
      " '00/10-20-078-24W4/0' '00/06-25-078-25W4/0' '00/10-21-078-26W4/0'\n",
      " '00/07-11-078-02W5/0' 'AA/12-29-079-22W4/0' '00/07-01-079-24W4/0'\n",
      " '00/10-06-079-24W4/0' '00/07-16-079-24W4/0' '00/11-18-079-03W5/0'\n",
      " '00/02-30-079-04W5/0' '00/10-18-080-20W4/0' '00/11-09-080-21W4/0'\n",
      " '00/04-01-080-22W4/0' '00/01-32-080-22W4/0' 'AA/11-01-080-23W4/0'\n",
      " '00/13-31-080-23W4/0' '00/10-18-080-25W4/0' '00/10-15-081-19W4/0'\n",
      " 'AA/11-14-081-20W4/0' '00/10-18-081-20W4/0' '00/10-23-081-20W4/0'\n",
      " 'AA/13-06-081-21W4/0' '00/13-10-081-21W4/0' '00/07-21-081-21W4/0'\n",
      " '00/06-08-081-22W4/0' '00/07-20-081-22W4/0' '00/10-07-081-24W4/0'\n",
      " '00/11-10-081-25W4/0' '00/11-12-081-25W4/0' '00/10-24-081-25W4/0'\n",
      " '00/10-26-081-25W4/0' '00/15-19-081-01W5/0' '00/10-23-081-02W5/0'\n",
      " '00/11-09-082-19W4/0' '00/10-14-082-19W4/0' 'AA/11-17-082-19W4/0'\n",
      " '00/07-11-082-20W4/0' 'AA/11-20-082-20W4/0' '00/06-26-082-20W4/0'\n",
      " 'AA/14-05-082-21W4/0' '00/08-09-082-21W4/0' 'AA/14-17-082-21W4/0'\n",
      " '00/07-27-082-21W4/0' '00/06-23-082-22W4/0' 'AA/10-26-082-22W4/0'\n",
      " '00/10-20-083-20W4/0' '00/11-17-084-20W4/0' '00/11-14-084-24W4/0'\n",
      " 'AA/12-11-085-10W4/0' '00/10-08-085-19W4/0' '00/07-19-085-19W4/0'\n",
      " '00/10-36-085-19W4/0' '00/07-04-085-23W4/0' 'AA/06-13-087-07W4/0'\n",
      " 'AA/09-28-087-07W4/0' 'AA/01-35-087-07W4/0' 'AA/10-11-087-16W4/0'\n",
      " '00/11-21-087-17W4/0' '00/11-24-087-17W4/0' '00/14-22-087-19W4/0'\n",
      " 'AA/03-08-088-07W4/0' 'AA/07-20-088-07W4/0' 'AD/05-15-088-08W4/0'\n",
      " 'AG/05-15-088-08W4/0' 'AA/11-28-088-08W4/0' 'AA/10-05-088-19W4/0'\n",
      " 'AA/07-11-088-19W4/0' 'AA/10-31-088-19W4/0' '00/10-35-088-22W4/0'\n",
      " 'AA/05-24-088-23W4/0' '00/16-29-088-23W4/0' '00/07-35-088-24W4/0'\n",
      " '00/10-21-088-25W4/0' '00/11-24-088-25W4/0' 'AA/04-08-089-07W4/0'\n",
      " 'AA/16-19-089-07W4/0' 'AA/13-28-089-07W4/0' 'AB/10-08-089-08W4/0'\n",
      " 'AA/07-23-089-08W4/0' 'AA/05-32-089-08W4/0' 'AA/12-34-089-08W4/0'\n",
      " 'AA/07-33-089-09W4/0' 'AA/10-35-089-09W4/0' 'AA/06-35-089-10W4/0'\n",
      " '00/06-19-089-18W4/0' '00/06-07-089-21W4/0' '00/10-13-089-24W4/0'\n",
      " '00/06-11-089-25W4/0' '00/07-14-089-25W4/0' 'AA/02-19-090-07W4/0'\n",
      " 'AA/01-02-090-08W4/0' 'AA/04-11-090-08W4/0' 'AA/07-25-090-08W4/0'\n",
      " 'AA/02-32-090-08W4/0' 'AA/11-14-090-09W4/0' 'AA/11-24-090-09W4/0'\n",
      " 'AA/06-36-090-09W4/0' 'AA/09-28-090-10W4/0' '00/11-21-090-23W4/0'\n",
      " 'AA/06-11-091-10W4/0' 'AA/04-19-091-11W4/0' 'AA/10-13-091-12W4/0'\n",
      " 'AA/02-24-091-12W4/0' '00/11-12-091-21W4/0' 'AA/01-24-092-12W4/0'\n",
      " '00/10-18-092-20W4/0' 'AA/04-04-093-09W4/0' 'AA/03-18-093-09W4/0'\n",
      " 'AA/10-01-093-10W4/0' 'AA/14-17-093-10W4/0' 'AA/01-36-093-10W4/0'\n",
      " 'AA/07-35-093-12W4/0' 'AA/16-12-093-13W4/0' '00/11-14-093-21W4/0'\n",
      " 'AA/11-01-094-10W4/0' 'AA/04-23-094-10W4/0' 'AA/10-03-094-13W4/0'\n",
      " '00/03-28-095-18W4/0' '00/07-06-095-21W4/0' '00/10-08-095-21W4/0'\n",
      " '00/11-10-095-21W4/0' 'AA/16-20-096-08W4/0' 'AA/10-32-096-08W4/0'\n",
      " 'AA/01-36-096-09W4/0' 'AA/02-03-096-10W4/0' 'AB/03-12-096-10W4/0'\n",
      " 'AA/05-01-096-11W4/0' '00/10-06-096-21W4/0' 'AA/10-15-097-06W4/0'\n",
      " 'AA/10-33-097-06W4/0' 'AA/10-18-097-07W4/0' 'AA/10-30-097-07W4/0'\n",
      " 'AA/10-32-097-07W4/0' 'AA/15-12-097-08W4/0' 'AA/06-18-097-09W4/0'\n",
      " 'AA/01-18-097-10W4/0' 'AA/05-26-097-10W4/0' 'AA/11-35-097-11W4/0'\n",
      " 'AA/11-06-098-06W4/0' 'AA/14-02-098-07W4/0' 'AA/10-06-098-07W4/0'\n",
      " 'AA/10-01-098-08W4/0' 'AA/01-06-098-10W4/0' 'AA/15-08-098-10W4/0'\n",
      " 'AA/12-16-098-11W4/0' 'AA/13-18-099-08W4/0' 'AA/16-04-099-09W4/0'\n",
      " 'AA/02-35-099-11W4/0' '00/10-15-080-23W4/0' '00/13-22-083-22W4/0'\n",
      " '00/13-16-084-23W4/0' '00/06-35-090-19W4/0' 'AB/15-34-092-10W4/0'\n",
      " 'AA/09-20-092-13W4/0' 'AA/10-23-092-13W4/0' 'AB/01-23-093-13W4/0'\n",
      " '00/04-23-094-21W4/0' '00/13-06-078-01W5/0' '00/01-27-079-23W4/0'\n",
      " '00/06-01-080-24W4/0' '00/06-20-081-24W4/0' '00/10-21-081-24W4/0'\n",
      " 'AA/08-17-095-09W4/0' '00/09-25-079-01W5/0' '00/10-03-094-21W4/0'\n",
      " 'AA/16-31-089-07W4/0' 'AA/05-36-094-09W4/0' '00/06-14-079-03W5/0'\n",
      " 'AB/07-12-093-10W4/0' '00/07-06-094-20W4/0']\n"
     ]
    }
   ],
   "source": [
    "merged_df = pd.merge(filtered_picks_df, wells_df, on='SitID', how='left')\n",
    "\n",
    "# 3. Extract the UWI values for the merged data\n",
    "uwis = merged_df['UWI'].unique()\n",
    "\n",
    "print(len(uwis))\n",
    "print(uwis)"
   ]
  },
  {
   "cell_type": "code",
   "execution_count": 9,
   "metadata": {},
   "outputs": [],
   "source": [
    "import lasio\n",
    "\n",
    "def read_las_file_to_dataframe(file_path) ->pd.DataFrame:\n",
    "    \"\"\"\n",
    "    Read a .las file into a Pandas DataFrame using lasio.\n",
    "    \n",
    "    Parameters:\n",
    "    - file_path: str, path to the .las file\n",
    "    \n",
    "    Returns:\n",
    "    - Pandas DataFrame containing the well log data from the .las file\n",
    "    \"\"\"\n",
    "    las = lasio.read(file_path)\n",
    "    return las.df()"
   ]
  },
  {
   "cell_type": "code",
   "execution_count": 10,
   "metadata": {},
   "outputs": [],
   "source": [
    "def convert_las_to_uwi_format(las_name):\n",
    "    no_extension = las_name.replace('.las', '')\n",
    "    split_name = no_extension.split('-')\n",
    "    formatted_name = split_name[0] + '/' + '-'.join(split_name[1:-1]) + '/' + split_name[-1]\n",
    "    return formatted_name\n"
   ]
  },
  {
   "cell_type": "markdown",
   "metadata": {},
   "source": [
    "In the SPE paper they suggest having gamma-ray (GR), resistivity(ILD) and density logs (RHOB). There are only 14 wells of the 185 filtered wells that have all three. So as a replacment we will use the density porosity log (DPHI) that also has a reaction to top formations. "
   ]
  },
  {
   "cell_type": "code",
   "execution_count": 11,
   "metadata": {},
   "outputs": [
    {
     "name": "stdout",
     "output_type": "stream",
     "text": [
      "156\n"
     ]
    }
   ],
   "source": [
    "import os\n",
    "\n",
    "# Modify the format of the UWI values to match the .las file names\n",
    "modified_uwis = [uwi.replace('/', '-') + '.las' for uwi in uwis]\n",
    "\n",
    "# Directory containing the .las files\n",
    "logs_directory = current_dir+\"/Data/OilSandsDB/Logs\"\n",
    "\n",
    "# List to store dataframes read from .las files\n",
    "las_dataframes = []\n",
    "excluded_las = []\n",
    "missing_las = []\n",
    "for uwi in modified_uwis:\n",
    "    file_path = os.path.join(logs_directory, uwi)\n",
    "    \n",
    "    # Check if the file exists\n",
    "    if os.path.exists(file_path):\n",
    "        # Here you can use the appropriate .las reader to convert the .las file to a dataframe\n",
    "        # I'll use a placeholder function called read_las_file_to_dataframe which you might need to replace\n",
    "        df = read_las_file_to_dataframe(file_path)\n",
    "        # Check if the dataframe contains all the required curves\n",
    "        required_curves = ['GR', 'ILD', 'DPHI']\n",
    "        if all(curve in df.columns for curve in required_curves):\n",
    "            df = df[required_curves]\n",
    "            df['uwi']= convert_las_to_uwi_format(uwi)\n",
    "            las_dataframes.append(df)\n",
    "        else:\n",
    "            excluded_las.append(uwi)\n",
    "    else:\n",
    "        missing_las.append(uwi)\n",
    "\n",
    "print(len(las_dataframes))"
   ]
  },
  {
   "cell_type": "markdown",
   "metadata": {},
   "source": [
    "Looks like we have some missing .las files and some .las files that do not have the required log curves. Thats okay we will let them go but we need to take them out of filtered_picks_df"
   ]
  },
  {
   "cell_type": "code",
   "execution_count": 12,
   "metadata": {},
   "outputs": [
    {
     "name": "stdout",
     "output_type": "stream",
     "text": [
      "27\n",
      "2\n",
      "156\n"
     ]
    }
   ],
   "source": [
    "print(len(excluded_las))\n",
    "print(len(missing_las))\n",
    "\n",
    "all_excluded_las = missing_las + excluded_las\n",
    "\n",
    "formatted_missing_wells = [convert_las_to_uwi_format(well) for well in all_excluded_las]\n",
    "\n",
    "# Find the corresponding SitID for these UWIs from the wells_df\n",
    "missing_sitids = wells_df[wells_df['UWI'].isin(formatted_missing_wells)]['SitID'].tolist()\n",
    "\n",
    "# Filter out these wells from filtered_picks_df\n",
    "filtered_picks_df = filtered_picks_df[~filtered_picks_df['SitID'].isin(missing_sitids)]\n",
    "\n",
    "num_wells = filtered_picks_df['SitID'].nunique()\n",
    "\n",
    "print(num_wells)"
   ]
  },
  {
   "cell_type": "markdown",
   "metadata": {},
   "source": []
  },
  {
   "cell_type": "code",
   "execution_count": 13,
   "metadata": {},
   "outputs": [
    {
     "name": "stdout",
     "output_type": "stream",
     "text": [
      "156\n",
      "             GR    ILD   DPHI                  uwi\n",
      "DEPT                                              \n",
      "550.00  108.212  2.097  0.243  00/16-12-076-03W5/0\n",
      "550.25  113.444  2.154  0.235  00/16-12-076-03W5/0\n",
      "550.50  107.589  2.188  0.243  00/16-12-076-03W5/0\n",
      "550.75  103.744  2.223  0.250  00/16-12-076-03W5/0\n",
      "551.00  106.282  2.228  0.244  00/16-12-076-03W5/0\n",
      "        SitID  HorID      Pick  Quality\n",
      "10794  110055   1000       554        1\n",
      "10795  110055   2000                 -1\n",
      "10796  110055   3000                 -1\n",
      "10797  110055   4000       701        1\n",
      "10798  110055   5000     733.5        1\n",
      "    SitID      UWI (AGS)                  UWI\n",
      "0  102496  0674010812000  00/12-08-067-01W4/0\n",
      "1  102497  0674020807000  00/07-08-067-02W4/0\n",
      "2  102498  0674021109000  00/09-11-067-02W4/0\n",
      "3  102500  0674022910000  00/10-29-067-02W4/0\n",
      "4  102501  0674023406000  00/06-34-067-02W4/0\n"
     ]
    }
   ],
   "source": [
    "print(len(las_dataframes))\n",
    "print(las_dataframes[0].head())\n",
    "print(filtered_picks_df.head())\n",
    "print(wells_df.head())"
   ]
  },
  {
   "cell_type": "markdown",
   "metadata": {},
   "source": [
    "Now we have Data that shows the log information and uwi. We need to convert the uwi to the sitID using the wells_df, then from the filtered_picks_df apply the picks at the correct depths"
   ]
  },
  {
   "cell_type": "code",
   "execution_count": 14,
   "metadata": {},
   "outputs": [
    {
     "name": "stdout",
     "output_type": "stream",
     "text": [
      "             GR    ILD   DPHI   SitID\n",
      "DEPT                                 \n",
      "463.296  54.880  3.509  0.193  110062\n",
      "463.546  49.705  3.365  0.197  110062\n",
      "463.796  43.357  3.151  0.179  110062\n",
      "464.046  40.856  2.854  0.211  110062\n",
      "464.296  40.907  2.590  0.244  110062\n"
     ]
    }
   ],
   "source": [
    "mapping = wells_df.set_index('UWI')['SitID'].to_dict()  # Create a mapping of UWI to SitID\n",
    "\n",
    "for las_df in las_dataframes:\n",
    "    las_df['SitID'] = las_df['uwi'].map(mapping)  # Replace UWI with SitID using the mapping\n",
    "    las_df.drop(columns=['uwi'], inplace=True)  # Drop the UWI column\n",
    "\n",
    "print(las_dataframes[1].head())"
   ]
  },
  {
   "cell_type": "code",
   "execution_count": 15,
   "metadata": {},
   "outputs": [],
   "source": [
    "\n",
    "# Exclude rows where 'Pick' column has empty strings or NaN values\n",
    "picks_df = filtered_picks_df[filtered_picks_df['Pick'].str.strip() != '']\n",
    "picks_df = picks_df.dropna(subset=['Pick'])\n",
    "\n",
    "\n",
    "# Create a dictionary of SitID to a list of pick depths\n",
    "pick_dict = picks_df.groupby('SitID')['Pick'].apply(list).to_dict()\n",
    "\n",
    "def is_pick_nearby(depth, next_depth, pick_depths):\n",
    "    \"\"\"\n",
    "    Check if there is a pick depth that falls between the current depth and the next depth.\n",
    "    \"\"\"\n",
    "    for pick_depth in pick_depths:\n",
    "        # Ensure pick_depth is a float\n",
    "        if depth <= pick_depth < next_depth:\n",
    "            return 1\n",
    "    return 0\n",
    "\n",
    "def apply_picks_for_well(df):\n",
    "    picks_for_this_well = pick_dict.get(df['SitID'].iloc[0], [])\n",
    "    picks_column = []\n",
    "    \n",
    "    # Iterate over the depths to get next depth and apply check\n",
    "    depths = df.index.tolist()\n",
    "    for i in range(len(depths)-1):\n",
    "        current_depth = depths[i]\n",
    "        next_depth = depths[i+1]\n",
    "        picks_column.append(is_pick_nearby(current_depth, next_depth, picks_for_this_well))\n",
    "    picks_column.append(0)  # for the last depth value\n",
    "    \n",
    "    df['Pick'] = picks_column\n",
    "    return df\n",
    "\n",
    "for las_df in las_dataframes:\n",
    "    apply_picks_for_well(las_df)\n",
    "\n"
   ]
  },
  {
   "cell_type": "code",
   "execution_count": 16,
   "metadata": {},
   "outputs": [],
   "source": [
    "for las_df in las_dataframes:\n",
    "    name = current_dir + \"/Data/Well Log Data/\" +str(las_df['SitID'].iloc[0]) + \".csv\"\n",
    "    las_df.to_csv(name, index = True)"
   ]
  },
  {
   "cell_type": "code",
   "execution_count": 17,
   "metadata": {},
   "outputs": [
    {
     "name": "stdout",
     "output_type": "stream",
     "text": [
      "Index(['GR', 'ILD', 'DPHI', 'SitID', 'Pick'], dtype='object')\n"
     ]
    }
   ],
   "source": [
    "print(las_dataframes[0].columns)"
   ]
  }
 ],
 "metadata": {
  "kernelspec": {
   "display_name": "base",
   "language": "python",
   "name": "python3"
  },
  "language_info": {
   "codemirror_mode": {
    "name": "ipython",
    "version": 3
   },
   "file_extension": ".py",
   "mimetype": "text/x-python",
   "name": "python",
   "nbconvert_exporter": "python",
   "pygments_lexer": "ipython3",
   "version": "3.9.13"
  }
 },
 "nbformat": 4,
 "nbformat_minor": 2
}
